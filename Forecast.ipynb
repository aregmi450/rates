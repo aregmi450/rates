{
 "cells": [
  {
   "cell_type": "code",
   "execution_count": 1,
   "metadata": {},
   "outputs": [],
   "source": [
    "import numpy as np\n",
    "import pandas as pd\n",
    "import matplotlib.pyplot as plt \n",
    "%matplotlib inline\n",
    "from matplotlib.pylab import rcParams\n",
    "rcParams['figure.figsize']= 10, 6"
   ]
  },
  {
   "cell_type": "code",
   "execution_count": 2,
   "metadata": {},
   "outputs": [
    {
     "data": {
      "text/html": [
       "<div>\n",
       "<style scoped>\n",
       "    .dataframe tbody tr th:only-of-type {\n",
       "        vertical-align: middle;\n",
       "    }\n",
       "\n",
       "    .dataframe tbody tr th {\n",
       "        vertical-align: top;\n",
       "    }\n",
       "\n",
       "    .dataframe thead th {\n",
       "        text-align: right;\n",
       "    }\n",
       "</style>\n",
       "<table border=\"1\" class=\"dataframe\">\n",
       "  <thead>\n",
       "    <tr style=\"text-align: right;\">\n",
       "      <th></th>\n",
       "      <th>Date</th>\n",
       "      <th>Open</th>\n",
       "      <th>High</th>\n",
       "      <th>Low</th>\n",
       "      <th>Close</th>\n",
       "      <th>Adj Close</th>\n",
       "      <th>Volume</th>\n",
       "    </tr>\n",
       "  </thead>\n",
       "  <tbody>\n",
       "    <tr>\n",
       "      <th>0</th>\n",
       "      <td>2021-07-16</td>\n",
       "      <td>117.793526</td>\n",
       "      <td>117.839714</td>\n",
       "      <td>117.793526</td>\n",
       "      <td>117.704834</td>\n",
       "      <td>117.704834</td>\n",
       "      <td>0</td>\n",
       "    </tr>\n",
       "    <tr>\n",
       "      <th>1</th>\n",
       "      <td>2021-07-19</td>\n",
       "      <td>117.830223</td>\n",
       "      <td>118.339600</td>\n",
       "      <td>117.830223</td>\n",
       "      <td>117.797791</td>\n",
       "      <td>117.797791</td>\n",
       "      <td>0</td>\n",
       "    </tr>\n",
       "    <tr>\n",
       "      <th>2</th>\n",
       "      <td>2021-07-20</td>\n",
       "      <td>118.140976</td>\n",
       "      <td>118.140976</td>\n",
       "      <td>118.137138</td>\n",
       "      <td>118.137466</td>\n",
       "      <td>118.137466</td>\n",
       "      <td>0</td>\n",
       "    </tr>\n",
       "    <tr>\n",
       "      <th>3</th>\n",
       "      <td>2021-07-21</td>\n",
       "      <td>118.143654</td>\n",
       "      <td>118.143654</td>\n",
       "      <td>117.866806</td>\n",
       "      <td>118.137138</td>\n",
       "      <td>118.137138</td>\n",
       "      <td>0</td>\n",
       "    </tr>\n",
       "    <tr>\n",
       "      <th>4</th>\n",
       "      <td>2021-07-22</td>\n",
       "      <td>117.720314</td>\n",
       "      <td>117.720314</td>\n",
       "      <td>117.573898</td>\n",
       "      <td>117.866806</td>\n",
       "      <td>117.866806</td>\n",
       "      <td>0</td>\n",
       "    </tr>\n",
       "  </tbody>\n",
       "</table>\n",
       "</div>"
      ],
      "text/plain": [
       "         Date        Open        High         Low       Close   Adj Close  \\\n",
       "0  2021-07-16  117.793526  117.839714  117.793526  117.704834  117.704834   \n",
       "1  2021-07-19  117.830223  118.339600  117.830223  117.797791  117.797791   \n",
       "2  2021-07-20  118.140976  118.140976  118.137138  118.137466  118.137466   \n",
       "3  2021-07-21  118.143654  118.143654  117.866806  118.137138  118.137138   \n",
       "4  2021-07-22  117.720314  117.720314  117.573898  117.866806  117.866806   \n",
       "\n",
       "   Volume  \n",
       "0       0  \n",
       "1       0  \n",
       "2       0  \n",
       "3       0  \n",
       "4       0  "
      ]
     },
     "execution_count": 2,
     "metadata": {},
     "output_type": "execute_result"
    }
   ],
   "source": [
    "dataset = pd.read_csv('Conversion.csv')\n",
    "dataset.head()"
   ]
  },
  {
   "cell_type": "code",
   "execution_count": 7,
   "metadata": {},
   "outputs": [],
   "source": [
    "df2 = dataset.reset_index()['Close']"
   ]
  },
  {
   "cell_type": "code",
   "execution_count": 9,
   "metadata": {},
   "outputs": [
    {
     "data": {
      "text/plain": [
       "(262,)"
      ]
     },
     "execution_count": 9,
     "metadata": {},
     "output_type": "execute_result"
    }
   ],
   "source": [
    "df2.shape"
   ]
  },
  {
   "cell_type": "code",
   "execution_count": 11,
   "metadata": {},
   "outputs": [
    {
     "data": {
      "image/png": "[encoded data removed]",
      "text/plain": [
       "<Figure size 720x432 with 1 Axes>"
      ]
     },
     "metadata": {
      "needs_background": "light"
     },
     "output_type": "display_data"
    }
   ],
   "source": [
    "plt.plot(df2);"
   ]
  },
  {
   "cell_type": "code",
   "execution_count": 12,
   "metadata": {},
   "outputs": [],
   "source": [
    "## LSTM are senestive to scale of data, so we apply MinMaxScaler"
   ]
  },
  {
   "cell_type": "code",
   "execution_count": 13,
   "metadata": {},
   "outputs": [
    {
     "data": {
      "text/plain": [
       "0      117.704834\n",
       "1      117.797791\n",
       "2      118.137466\n",
       "3      118.137138\n",
       "4      117.866806\n",
       "          ...    \n",
       "257    125.547783\n",
       "258    125.552170\n",
       "259    125.642670\n",
       "260    126.026962\n",
       "261    127.867599\n",
       "Name: Close, Length: 262, dtype: float64"
      ]
     },
     "execution_count": 13,
     "metadata": {},
     "output_type": "execute_result"
    }
   ],
   "source": [
    "df2"
   ]
  },
  {
   "cell_type": "code",
   "execution_count": 14,
   "metadata": {},
   "outputs": [
    {
     "name": "stderr",
     "output_type": "stream",
     "text": [
      "c:\\users\\hp\\appdata\\local\\programs\\python\\python39\\lib\\site-packages\\scipy\\__init__.py:138: UserWarning: A NumPy version >=1.16.5 and <1.23.0 is required for this version of SciPy (detected version 1.23.1)\n",
      "  warnings.warn(f\"A NumPy version >={np_minversion} and <{np_maxversion} is required for this version of \"\n"
     ]
    }
   ],
   "source": [
    "from sklearn.preprocessing import MinMaxScaler\n",
    "scaler = MinMaxScaler(feature_range=(0,1))\n",
    "df2 = scaler.fit_transform(np.array(df2).reshape(-1,1))"
   ]
  },
  {
   "cell_type": "code",
   "execution_count": 15,
   "metadata": {},
   "outputs": [
    {
     "data": {
      "text/plain": [
       "array([[0.19753418],\n",
       "       [0.20487419],\n",
       "       [0.23169539],\n",
       "       [0.23166949],\n",
       "       [0.21032371],\n",
       "       [0.18719529],\n",
       "       [0.18607057],\n",
       "       [0.19556425],\n",
       "       [0.19452022],\n",
       "       [0.18170661],\n",
       "       [0.17262984],\n",
       "       [0.17872819],\n",
       "       [0.18439461],\n",
       "       [0.1661104 ],\n",
       "       [0.15979751],\n",
       "       [0.15317139],\n",
       "       [0.18707306],\n",
       "       [0.16208313],\n",
       "       [0.18403376],\n",
       "       [0.19326174],\n",
       "       [0.1652423 ],\n",
       "       [0.17088401],\n",
       "       [0.16067588],\n",
       "       [0.17211659],\n",
       "       [0.16678868],\n",
       "       [0.1816072 ],\n",
       "       [0.17030625],\n",
       "       [0.17056105],\n",
       "       [0.0434875 ],\n",
       "       [0.168899  ],\n",
       "       [0.16100175],\n",
       "       [0.14537719],\n",
       "       [0.03572275],\n",
       "       [0.        ],\n",
       "       [0.02095785],\n",
       "       [0.01625112],\n",
       "       [0.01336729],\n",
       "       [0.01749752],\n",
       "       [0.06970694],\n",
       "       [0.0684539 ],\n",
       "       [0.08314529],\n",
       "       [0.0654664 ],\n",
       "       [0.09102437],\n",
       "       [0.08160002],\n",
       "       [0.09301238],\n",
       "       [0.06454894],\n",
       "       [0.08389345],\n",
       "       [0.09478175],\n",
       "       [0.08854901],\n",
       "       [0.11688304],\n",
       "       [0.10289219],\n",
       "       [0.09994393],\n",
       "       [0.09988187],\n",
       "       [0.14096862],\n",
       "       [0.15995836],\n",
       "       [0.16188975],\n",
       "       [0.15266414],\n",
       "       [0.179615  ],\n",
       "       [0.19931136],\n",
       "       [0.25117493],\n",
       "       [0.23024661],\n",
       "       [0.2635837 ],\n",
       "       [0.31240086],\n",
       "       [0.32240471],\n",
       "       [0.31106523],\n",
       "       [0.29182669],\n",
       "       [0.25887153],\n",
       "       [0.29975764],\n",
       "       [0.27070081],\n",
       "       [0.24408498],\n",
       "       [0.23442682],\n",
       "       [0.22137467],\n",
       "       [0.26324338],\n",
       "       [0.2623373 ],\n",
       "       [0.26788441],\n",
       "       [0.2450645 ],\n",
       "       [0.25218216],\n",
       "       [0.25029537],\n",
       "       [0.22761522],\n",
       "       [0.19629922],\n",
       "       [0.1945841 ],\n",
       "       [0.17235332],\n",
       "       [0.13833005],\n",
       "       [0.13482693],\n",
       "       [0.17981801],\n",
       "       [0.19712998],\n",
       "       [0.19609621],\n",
       "       [0.19176716],\n",
       "       [0.18398196],\n",
       "       [0.19064598],\n",
       "       [0.15317266],\n",
       "       [0.16017045],\n",
       "       [0.19089961],\n",
       "       [0.18053245],\n",
       "       [0.17776067],\n",
       "       [0.18209881],\n",
       "       [0.24656635],\n",
       "       [0.26148065],\n",
       "       [0.27371658],\n",
       "       [0.23942516],\n",
       "       [0.25601542],\n",
       "       [0.26648017],\n",
       "       [0.29877331],\n",
       "       [0.31228755],\n",
       "       [0.32284571],\n",
       "       [0.33787269],\n",
       "       [0.31888833],\n",
       "       [0.35696658],\n",
       "       [0.37288756],\n",
       "       [0.42835484],\n",
       "       [0.38781512],\n",
       "       [0.34588672],\n",
       "       [0.37244474],\n",
       "       [0.32931817],\n",
       "       [0.32701874],\n",
       "       [0.29080382],\n",
       "       [0.26083364],\n",
       "       [0.26121739],\n",
       "       [0.21918965],\n",
       "       [0.23127011],\n",
       "       [0.18484161],\n",
       "       [0.1807132 ],\n",
       "       [0.17877335],\n",
       "       [0.18541211],\n",
       "       [0.17512873],\n",
       "       [0.18852966],\n",
       "       [0.12698149],\n",
       "       [0.14350605],\n",
       "       [0.11951624],\n",
       "       [0.13231114],\n",
       "       [0.11669622],\n",
       "       [0.14716946],\n",
       "       [0.16424525],\n",
       "       [0.20943089],\n",
       "       [0.17911976],\n",
       "       [0.19979326],\n",
       "       [0.18620614],\n",
       "       [0.20521151],\n",
       "       [0.22573799],\n",
       "       [0.24073126],\n",
       "       [0.26971821],\n",
       "       [0.25569073],\n",
       "       [0.22179995],\n",
       "       [0.22989902],\n",
       "       [0.25069176],\n",
       "       [0.22389401],\n",
       "       [0.22766884],\n",
       "       [0.21490576],\n",
       "       [0.22480965],\n",
       "       [0.23625217],\n",
       "       [0.24640913],\n",
       "       [0.330855  ],\n",
       "       [0.32011373],\n",
       "       [0.31207491],\n",
       "       [0.26053722],\n",
       "       [0.25252674],\n",
       "       [0.21992099],\n",
       "       [0.20999784],\n",
       "       [0.22677176],\n",
       "       [0.20733028],\n",
       "       [0.33966124],\n",
       "       [0.22452712],\n",
       "       [0.31805639],\n",
       "       [0.34429517],\n",
       "       [0.35139838],\n",
       "       [0.40096906],\n",
       "       [0.4515435 ],\n",
       "       [0.48012207],\n",
       "       [0.4697193 ],\n",
       "       [0.48781204],\n",
       "       [0.41389662],\n",
       "       [0.41077543],\n",
       "       [0.4401733 ],\n",
       "       [0.43831779],\n",
       "       [0.41950516],\n",
       "       [0.35911669],\n",
       "       [0.39408876],\n",
       "       [0.39160614],\n",
       "       [0.37869193],\n",
       "       [0.43001034],\n",
       "       [0.41563819],\n",
       "       [0.42951154],\n",
       "       [0.39485263],\n",
       "       [0.37797804],\n",
       "       [0.37582618],\n",
       "       [0.33693289],\n",
       "       [0.39560324],\n",
       "       [0.32062397],\n",
       "       [0.29418581],\n",
       "       [0.35166164],\n",
       "       [0.37337191],\n",
       "       [0.36430896],\n",
       "       [0.38641143],\n",
       "       [0.39613157],\n",
       "       [0.39484363],\n",
       "       [0.39917269],\n",
       "       [0.48091121],\n",
       "       [0.48884761],\n",
       "       [0.42066969],\n",
       "       [0.44224019],\n",
       "       [0.4528616 ],\n",
       "       [0.45105852],\n",
       "       [0.45463397],\n",
       "       [0.46472879],\n",
       "       [0.45822742],\n",
       "       [0.4279301 ],\n",
       "       [0.42922776],\n",
       "       [0.433111  ],\n",
       "       [0.41749252],\n",
       "       [0.41944136],\n",
       "       [0.42098356],\n",
       "       [0.47178983],\n",
       "       [0.57164279],\n",
       "       [0.54210216],\n",
       "       [0.53388023],\n",
       "       [0.55858637],\n",
       "       [0.53791468],\n",
       "       [0.5787798 ],\n",
       "       [0.55250793],\n",
       "       [0.56866019],\n",
       "       [0.59254221],\n",
       "       [0.58298046],\n",
       "       [0.57356337],\n",
       "       [0.58857945],\n",
       "       [0.56937952],\n",
       "       [0.58045275],\n",
       "       [0.57601583],\n",
       "       [0.56687337],\n",
       "       [0.58221841],\n",
       "       [0.57101987],\n",
       "       [0.57635805],\n",
       "       [0.60332383],\n",
       "       [0.58142863],\n",
       "       [0.60798247],\n",
       "       [0.58896321],\n",
       "       [0.6004937 ],\n",
       "       [0.67500007],\n",
       "       [0.64563836],\n",
       "       [0.63375673],\n",
       "       [0.63129155],\n",
       "       [0.63669535],\n",
       "       [0.65470368],\n",
       "       [0.63431633],\n",
       "       [0.63742488],\n",
       "       [0.6548507 ],\n",
       "       [0.67152766],\n",
       "       [0.666186  ],\n",
       "       [0.66831914],\n",
       "       [0.72420334],\n",
       "       [0.74845948],\n",
       "       [0.73695615],\n",
       "       [0.74518646],\n",
       "       [0.74709495],\n",
       "       [0.7652154 ],\n",
       "       [0.79589884],\n",
       "       [0.7738608 ],\n",
       "       [0.73771395],\n",
       "       [0.81682416],\n",
       "       [0.81717056],\n",
       "       [0.82431656],\n",
       "       [0.85466079],\n",
       "       [1.        ]])"
      ]
     },
     "execution_count": 15,
     "metadata": {},
     "output_type": "execute_result"
    }
   ],
   "source": [
    "df2"
   ]
  },
  {
   "cell_type": "code",
   "execution_count": 17,
   "metadata": {},
   "outputs": [],
   "source": [
    "#splitting dataset into train and test split\n",
    "training_size =int(len(df2)*0.65)\n",
    "test_size=len(df2)-training_size\n",
    "train_data,test_data=df2[0:training_size,:],df2[training_size:len(df2),:1]"
   ]
  },
  {
   "cell_type": "code",
   "execution_count": 19,
   "metadata": {},
   "outputs": [
    {
     "data": {
      "text/plain": [
       "(170, 92)"
      ]
     },
     "execution_count": 19,
     "metadata": {},
     "output_type": "execute_result"
    }
   ],
   "source": [
    "training_size, test_size"
   ]
  },
  {
   "cell_type": "code",
   "execution_count": null,
   "metadata": {},
   "outputs": [],
   "source": []
  },
  {
   "cell_type": "code",
   "execution_count": null,
   "metadata": {},
   "outputs": [],
   "source": []
  }
 ],
 "metadata": {
  "kernelspec": {
   "display_name": "Python 3",
   "language": "python",
   "name": "python3"
  },
  "language_info": {
   "codemirror_mode": {
    "name": "ipython",
    "version": 3
   },
   "file_extension": ".py",
   "mimetype": "text/x-python",
   "name": "python",
   "nbconvert_exporter": "python",
   "pygments_lexer": "ipython3",
   "version": "3.9.7"
  }
 },
 "nbformat": 4,
 "nbformat_minor": 4
}
