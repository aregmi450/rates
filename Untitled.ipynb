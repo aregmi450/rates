{
 "cells": [
  {
   "cell_type": "markdown",
   "metadata": {},
   "source": [
    "Importing required modules "
   ]
  },
  {
   "cell_type": "code",
   "execution_count": null,
   "metadata": {},
   "outputs": [],
   "source": [
    "import numpy as np\n",
    "import pandas as pd \n",
    "import matplotlib.pyplot as plt\n",
    "import seaborn as sns\n",
    "sns.set()\n",
    "plt.style.use('seaborn-whitegrid')"
   ]
  },
  {
   "cell_type": "markdown",
   "metadata": {},
   "source": [
    "## Reading the dataset and looking the information on the dataset"
   ]
  },
  {
   "cell_type": "code",
   "execution_count": 2,
   "metadata": {},
   "outputs": [
    {
     "data": {
      "text/html": [
       "<div>\n",
       "<style scoped>\n",
       "    .dataframe tbody tr th:only-of-type {\n",
       "        vertical-align: middle;\n",
       "    }\n",
       "\n",
       "    .dataframe tbody tr th {\n",
       "        vertical-align: top;\n",
       "    }\n",
       "\n",
       "    .dataframe thead th {\n",
       "        text-align: right;\n",
       "    }\n",
       "</style>\n",
       "<table border=\"1\" class=\"dataframe\">\n",
       "  <thead>\n",
       "    <tr style=\"text-align: right;\">\n",
       "      <th></th>\n",
       "      <th>Date</th>\n",
       "      <th>Open</th>\n",
       "      <th>High</th>\n",
       "      <th>Low</th>\n",
       "      <th>Close</th>\n",
       "      <th>Adj Close</th>\n",
       "      <th>Volume</th>\n",
       "    </tr>\n",
       "  </thead>\n",
       "  <tbody>\n",
       "    <tr>\n",
       "      <th>0</th>\n",
       "      <td>2021-07-16</td>\n",
       "      <td>117.793526</td>\n",
       "      <td>117.839714</td>\n",
       "      <td>117.793526</td>\n",
       "      <td>117.704834</td>\n",
       "      <td>117.704834</td>\n",
       "      <td>0</td>\n",
       "    </tr>\n",
       "    <tr>\n",
       "      <th>1</th>\n",
       "      <td>2021-07-19</td>\n",
       "      <td>117.830223</td>\n",
       "      <td>118.339600</td>\n",
       "      <td>117.830223</td>\n",
       "      <td>117.797791</td>\n",
       "      <td>117.797791</td>\n",
       "      <td>0</td>\n",
       "    </tr>\n",
       "    <tr>\n",
       "      <th>2</th>\n",
       "      <td>2021-07-20</td>\n",
       "      <td>118.140976</td>\n",
       "      <td>118.140976</td>\n",
       "      <td>118.137138</td>\n",
       "      <td>118.137466</td>\n",
       "      <td>118.137466</td>\n",
       "      <td>0</td>\n",
       "    </tr>\n",
       "    <tr>\n",
       "      <th>3</th>\n",
       "      <td>2021-07-21</td>\n",
       "      <td>118.143654</td>\n",
       "      <td>118.143654</td>\n",
       "      <td>117.866806</td>\n",
       "      <td>118.137138</td>\n",
       "      <td>118.137138</td>\n",
       "      <td>0</td>\n",
       "    </tr>\n",
       "    <tr>\n",
       "      <th>4</th>\n",
       "      <td>2021-07-22</td>\n",
       "      <td>117.720314</td>\n",
       "      <td>117.720314</td>\n",
       "      <td>117.573898</td>\n",
       "      <td>117.866806</td>\n",
       "      <td>117.866806</td>\n",
       "      <td>0</td>\n",
       "    </tr>\n",
       "  </tbody>\n",
       "</table>\n",
       "</div>"
      ],
      "text/plain": [
       "         Date        Open        High         Low       Close   Adj Close  \\\n",
       "0  2021-07-16  117.793526  117.839714  117.793526  117.704834  117.704834   \n",
       "1  2021-07-19  117.830223  118.339600  117.830223  117.797791  117.797791   \n",
       "2  2021-07-20  118.140976  118.140976  118.137138  118.137466  118.137466   \n",
       "3  2021-07-21  118.143654  118.143654  117.866806  118.137138  118.137138   \n",
       "4  2021-07-22  117.720314  117.720314  117.573898  117.866806  117.866806   \n",
       "\n",
       "   Volume  \n",
       "0       0  \n",
       "1       0  \n",
       "2       0  \n",
       "3       0  \n",
       "4       0  "
      ]
     },
     "execution_count": 2,
     "metadata": {},
     "output_type": "execute_result"
    }
   ],
   "source": [
    "npr = pd.read_csv('Conversion.csv')\n",
    "npr.head()"
   ]
  },
  {
   "cell_type": "code",
   "execution_count": 3,
   "metadata": {},
   "outputs": [
    {
     "name": "stdout",
     "output_type": "stream",
     "text": [
      "<class 'pandas.core.frame.DataFrame'>\n",
      "RangeIndex: 262 entries, 0 to 261\n",
      "Data columns (total 7 columns):\n",
      " #   Column     Non-Null Count  Dtype  \n",
      "---  ------     --------------  -----  \n",
      " 0   Date       262 non-null    object \n",
      " 1   Open       262 non-null    float64\n",
      " 2   High       262 non-null    float64\n",
      " 3   Low        262 non-null    float64\n",
      " 4   Close      262 non-null    float64\n",
      " 5   Adj Close  262 non-null    float64\n",
      " 6   Volume     262 non-null    int64  \n",
      "dtypes: float64(5), int64(1), object(1)\n",
      "memory usage: 14.5+ KB\n"
     ]
    }
   ],
   "source": [
    "#Finding out the information about dataset data\n",
    "npr.info();"
   ]
  },
  {
   "cell_type": "code",
   "execution_count": 4,
   "metadata": {},
   "outputs": [],
   "source": [
    "#converting the date column to datetime format \n",
    "npr['Date'] = pd.to_datetime(npr['Date'])"
   ]
  },
  {
   "cell_type": "code",
   "execution_count": 5,
   "metadata": {},
   "outputs": [
    {
     "name": "stdout",
     "output_type": "stream",
     "text": [
      "This dataset contains exchange rates of USD in Nepal from 2021-07-16 00:00:00 2022-07-15 00:00:00\n",
      "Total Days = 364 days\n"
     ]
    }
   ],
   "source": [
    "print(f'This dataset contains exchange rates of USD in Nepal from {npr.Date.min()} {npr.Date.max()}')\n",
    "print(f'Total Days = {(npr.Date.max() - npr.Date.min()).days} days')"
   ]
  },
  {
   "cell_type": "code",
   "execution_count": 6,
   "metadata": {
    "scrolled": true
   },
   "outputs": [
    {
     "data": {
      "text/html": [
       "<div>\n",
       "<style scoped>\n",
       "    .dataframe tbody tr th:only-of-type {\n",
       "        vertical-align: middle;\n",
       "    }\n",
       "\n",
       "    .dataframe tbody tr th {\n",
       "        vertical-align: top;\n",
       "    }\n",
       "\n",
       "    .dataframe thead th {\n",
       "        text-align: right;\n",
       "    }\n",
       "</style>\n",
       "<table border=\"1\" class=\"dataframe\">\n",
       "  <thead>\n",
       "    <tr style=\"text-align: right;\">\n",
       "      <th></th>\n",
       "      <th>Open</th>\n",
       "      <th>High</th>\n",
       "      <th>Low</th>\n",
       "      <th>Close</th>\n",
       "      <th>Adj Close</th>\n",
       "      <th>Volume</th>\n",
       "    </tr>\n",
       "  </thead>\n",
       "  <tbody>\n",
       "    <tr>\n",
       "      <th>count</th>\n",
       "      <td>262.000000</td>\n",
       "      <td>262.000000</td>\n",
       "      <td>262.000000</td>\n",
       "      <td>262.000000</td>\n",
       "      <td>262.000000</td>\n",
       "      <td>262.0</td>\n",
       "    </tr>\n",
       "    <tr>\n",
       "      <th>mean</th>\n",
       "      <td>119.407266</td>\n",
       "      <td>119.560803</td>\n",
       "      <td>119.223081</td>\n",
       "      <td>119.353516</td>\n",
       "      <td>119.353516</td>\n",
       "      <td>0.0</td>\n",
       "    </tr>\n",
       "    <tr>\n",
       "      <th>std</th>\n",
       "      <td>2.516267</td>\n",
       "      <td>2.504210</td>\n",
       "      <td>2.481507</td>\n",
       "      <td>2.461510</td>\n",
       "      <td>2.461510</td>\n",
       "      <td>0.0</td>\n",
       "    </tr>\n",
       "    <tr>\n",
       "      <th>min</th>\n",
       "      <td>115.114693</td>\n",
       "      <td>115.372467</td>\n",
       "      <td>115.114693</td>\n",
       "      <td>115.203178</td>\n",
       "      <td>115.203178</td>\n",
       "      <td>0.0</td>\n",
       "    </tr>\n",
       "    <tr>\n",
       "      <th>25%</th>\n",
       "      <td>117.538893</td>\n",
       "      <td>117.636530</td>\n",
       "      <td>117.438355</td>\n",
       "      <td>117.533367</td>\n",
       "      <td>117.533367</td>\n",
       "      <td>0.0</td>\n",
       "    </tr>\n",
       "    <tr>\n",
       "      <th>50%</th>\n",
       "      <td>118.703773</td>\n",
       "      <td>118.816868</td>\n",
       "      <td>118.504608</td>\n",
       "      <td>118.520104</td>\n",
       "      <td>118.520104</td>\n",
       "      <td>0.0</td>\n",
       "    </tr>\n",
       "    <tr>\n",
       "      <th>75%</th>\n",
       "      <td>120.918602</td>\n",
       "      <td>121.023508</td>\n",
       "      <td>120.520317</td>\n",
       "      <td>120.678461</td>\n",
       "      <td>120.678461</td>\n",
       "      <td>0.0</td>\n",
       "    </tr>\n",
       "    <tr>\n",
       "      <th>max</th>\n",
       "      <td>127.867599</td>\n",
       "      <td>127.867599</td>\n",
       "      <td>127.867599</td>\n",
       "      <td>127.867599</td>\n",
       "      <td>127.867599</td>\n",
       "      <td>0.0</td>\n",
       "    </tr>\n",
       "  </tbody>\n",
       "</table>\n",
       "</div>"
      ],
      "text/plain": [
       "             Open        High         Low       Close   Adj Close  Volume\n",
       "count  262.000000  262.000000  262.000000  262.000000  262.000000   262.0\n",
       "mean   119.407266  119.560803  119.223081  119.353516  119.353516     0.0\n",
       "std      2.516267    2.504210    2.481507    2.461510    2.461510     0.0\n",
       "min    115.114693  115.372467  115.114693  115.203178  115.203178     0.0\n",
       "25%    117.538893  117.636530  117.438355  117.533367  117.533367     0.0\n",
       "50%    118.703773  118.816868  118.504608  118.520104  118.520104     0.0\n",
       "75%    120.918602  121.023508  120.520317  120.678461  120.678461     0.0\n",
       "max    127.867599  127.867599  127.867599  127.867599  127.867599     0.0"
      ]
     },
     "execution_count": 6,
     "metadata": {},
     "output_type": "execute_result"
    }
   ],
   "source": [
    "npr.describe()"
   ]
  },
  {
   "cell_type": "markdown",
   "metadata": {},
   "source": [
    "## Plot showing rate of change of exchange rate "
   ]
  },
  {
   "cell_type": "code",
   "execution_count": 7,
   "metadata": {},
   "outputs": [
    {
     "data": {
      "image/png": "[encoded data removed]",
      "text/plain": [
       "<Figure size 720x288 with 1 Axes>"
      ]
     },
     "metadata": {},
     "output_type": "display_data"
    }
   ],
   "source": [
    "plt.figure(figsize=(10, 4))\n",
    "plt.title(\"NPR - USD Exchange Rate\")\n",
    "plt.xlabel('Date')\n",
    "plt.ylabel(\"Close\")\n",
    "plt.plot(npr['Date'], npr['Close'])\n",
    "plt.show()"
   ]
  },
  {
   "cell_type": "markdown",
   "metadata": {},
   "source": [
    "### Using Linear Regression Model to Predict"
   ]
  },
  {
   "cell_type": "code",
   "execution_count": 8,
   "metadata": {},
   "outputs": [],
   "source": [
    "from sklearn.preprocessing import StandardScaler\n",
    "from sklearn.preprocessing import MinMaxScaler\n",
    "from sklearn.model_selection import train_test_split"
   ]
  },
  {
   "cell_type": "code",
   "execution_count": 9,
   "metadata": {},
   "outputs": [],
   "source": [
    "#splitting data into train and test sets \n",
    "\n",
    "x = np.array(npr.index).reshape(-1,1)\n",
    "y =npr['Close']\n",
    "xtrain, xtest, ytrain, ytest = train_test_split(x, y, test_size=0.2, random_state=42)"
   ]
  },
  {
   "cell_type": "code",
   "execution_count": 10,
   "metadata": {},
   "outputs": [],
   "source": [
    "#Feature Scaling\n",
    "scaler = StandardScaler().fit(xtrain)"
   ]
  },
  {
   "cell_type": "code",
   "execution_count": 11,
   "metadata": {},
   "outputs": [],
   "source": [
    "from sklearn.linear_model import LinearRegression\n",
    "from sklearn.metrics import confusion_matrix, accuracy_score\n",
    "lm = LinearRegression()"
   ]
  },
  {
   "cell_type": "code",
   "execution_count": 12,
   "metadata": {},
   "outputs": [
    {
     "data": {
      "text/plain": [
       "LinearRegression()"
      ]
     },
     "execution_count": 12,
     "metadata": {},
     "output_type": "execute_result"
    }
   ],
   "source": [
    "lm.fit(xtrain, ytrain)"
   ]
  },
  {
   "cell_type": "code",
   "execution_count": 13,
   "metadata": {},
   "outputs": [],
   "source": [
    "# Use model to make predictions\n",
    "y_pred = lm.predict(xtest)"
   ]
  },
  {
   "cell_type": "code",
   "execution_count": 14,
   "metadata": {},
   "outputs": [
    {
     "name": "stdout",
     "output_type": "stream",
     "text": [
      "Model Coefficients: [0.02842219]\n",
      "Mean Absolute Error: 1.0746154292061476\n",
      "Coefficient of Determination: 0.748086969711192\n"
     ]
    }
   ],
   "source": [
    "from sklearn.metrics import mean_squared_error, r2_score, mean_absolute_error\n",
    "\n",
    "# Printout relevant metrics\n",
    "print(\"Model Coefficients:\", lm.coef_)\n",
    "print(\"Mean Absolute Error:\", mean_absolute_error(ytest, y_pred))\n",
    "print(\"Coefficient of Determination:\", r2_score(ytest, y_pred))"
   ]
  },
  {
   "cell_type": "markdown",
   "metadata": {},
   "source": [
    "## Using LSTM Model to Predict "
   ]
  },
  {
   "cell_type": "code",
   "execution_count": 15,
   "metadata": {},
   "outputs": [],
   "source": [
    "x = npr[[\"Open\", \"High\", \"Low\", \"Volume\"]]\n",
    "y = npr[\"Close\"]\n",
    "x = x.to_numpy()\n",
    "y = y.to_numpy()\n",
    "y = y.reshape(-1, 1)\n",
    "\n",
    "from sklearn.model_selection import train_test_split\n",
    "xtrain, xtest, ytrain, ytest = train_test_split(x, y, test_size=0.2, random_state=42)"
   ]
  },
  {
   "cell_type": "code",
   "execution_count": 16,
   "metadata": {},
   "outputs": [
    {
     "name": "stdout",
     "output_type": "stream",
     "text": [
      "Model: \"sequential\"\n",
      "_________________________________________________________________\n",
      " Layer (type)                Output Shape              Param #   \n",
      "=================================================================\n",
      " lstm (LSTM)                 (None, 4, 128)            66560     \n",
      "                                                                 \n",
      " lstm_1 (LSTM)               (None, 64)                49408     \n",
      "                                                                 \n",
      " dense (Dense)               (None, 25)                1625      \n",
      "                                                                 \n",
      " dense_1 (Dense)             (None, 1)                 26        \n",
      "                                                                 \n",
      "=================================================================\n",
      "Total params: 117,619\n",
      "Trainable params: 117,619\n",
      "Non-trainable params: 0\n",
      "_________________________________________________________________\n"
     ]
    }
   ],
   "source": [
    "from keras.models import Sequential\n",
    "from keras.layers import Dense, LSTM\n",
    "model = Sequential()\n",
    "model.add(LSTM(128, return_sequences=True, input_shape= (xtrain.shape[1], 1)))\n",
    "model.add(LSTM(64, return_sequences=False))\n",
    "model.add(Dense(25))\n",
    "model.add(Dense(1))\n",
    "model.summary()"
   ]
  },
  {
   "cell_type": "code",
   "execution_count": 17,
   "metadata": {},
   "outputs": [
    {
     "name": "stdout",
     "output_type": "stream",
     "text": [
      "Epoch 1/50\n",
      "209/209 [==============================] - 3s 3ms/step - loss: 3356.4841\n",
      "Epoch 2/50\n",
      "209/209 [==============================] - 1s 3ms/step - loss: 6.2539\n",
      "Epoch 3/50\n",
      "209/209 [==============================] - 1s 3ms/step - loss: 6.1512\n",
      "Epoch 4/50\n",
      "209/209 [==============================] - 1s 3ms/step - loss: 6.3587\n",
      "Epoch 5/50\n",
      "209/209 [==============================] - 1s 2ms/step - loss: 6.4621\n",
      "Epoch 6/50\n",
      "209/209 [==============================] - 1s 3ms/step - loss: 6.3390\n",
      "Epoch 7/50\n",
      "209/209 [==============================] - 1s 3ms/step - loss: 6.3541\n",
      "Epoch 8/50\n",
      "209/209 [==============================] - 1s 2ms/step - loss: 6.4806\n",
      "Epoch 9/50\n",
      "209/209 [==============================] - 0s 2ms/step - loss: 6.3801\n",
      "Epoch 10/50\n",
      "209/209 [==============================] - 1s 2ms/step - loss: 6.7540\n",
      "Epoch 11/50\n",
      "209/209 [==============================] - 1s 2ms/step - loss: 6.7855\n",
      "Epoch 12/50\n",
      "209/209 [==============================] - 1s 2ms/step - loss: 6.3474\n",
      "Epoch 13/50\n",
      "209/209 [==============================] - 0s 2ms/step - loss: 6.4083\n",
      "Epoch 14/50\n",
      "209/209 [==============================] - 1s 2ms/step - loss: 7.0701\n",
      "Epoch 15/50\n",
      "209/209 [==============================] - 0s 2ms/step - loss: 6.8038\n",
      "Epoch 16/50\n",
      "209/209 [==============================] - 1s 3ms/step - loss: 6.8883\n",
      "Epoch 17/50\n",
      "209/209 [==============================] - 1s 3ms/step - loss: 6.4862\n",
      "Epoch 18/50\n",
      "209/209 [==============================] - 1s 3ms/step - loss: 6.5915\n",
      "Epoch 19/50\n",
      "209/209 [==============================] - 1s 3ms/step - loss: 7.6275\n",
      "Epoch 20/50\n",
      "209/209 [==============================] - 1s 3ms/step - loss: 7.2177\n",
      "Epoch 21/50\n",
      "209/209 [==============================] - 1s 3ms/step - loss: 7.3587\n",
      "Epoch 22/50\n",
      "209/209 [==============================] - 1s 2ms/step - loss: 6.7290\n",
      "Epoch 23/50\n",
      "209/209 [==============================] - 1s 3ms/step - loss: 6.8797\n",
      "Epoch 24/50\n",
      "209/209 [==============================] - 1s 3ms/step - loss: 6.8946\n",
      "Epoch 25/50\n",
      "209/209 [==============================] - 1s 2ms/step - loss: 6.9842\n",
      "Epoch 26/50\n",
      "209/209 [==============================] - 1s 2ms/step - loss: 7.6205\n",
      "Epoch 27/50\n",
      "209/209 [==============================] - 1s 3ms/step - loss: 7.3212\n",
      "Epoch 28/50\n",
      "209/209 [==============================] - 1s 3ms/step - loss: 7.0418\n",
      "Epoch 29/50\n",
      "209/209 [==============================] - 1s 3ms/step - loss: 7.5015\n",
      "Epoch 30/50\n",
      "209/209 [==============================] - 1s 3ms/step - loss: 6.9806\n",
      "Epoch 31/50\n",
      "209/209 [==============================] - 1s 3ms/step - loss: 7.0564\n",
      "Epoch 32/50\n",
      "209/209 [==============================] - 1s 2ms/step - loss: 6.9106\n",
      "Epoch 33/50\n",
      "209/209 [==============================] - 1s 2ms/step - loss: 6.5760\n",
      "Epoch 34/50\n",
      "209/209 [==============================] - 1s 3ms/step - loss: 6.8701\n",
      "Epoch 35/50\n",
      "209/209 [==============================] - 1s 3ms/step - loss: 7.2777\n",
      "Epoch 36/50\n",
      "209/209 [==============================] - 1s 3ms/step - loss: 7.9462\n",
      "Epoch 37/50\n",
      "209/209 [==============================] - 1s 2ms/step - loss: 7.7121\n",
      "Epoch 38/50\n",
      "209/209 [==============================] - 1s 3ms/step - loss: 7.0376\n",
      "Epoch 39/50\n",
      "209/209 [==============================] - 1s 3ms/step - loss: 7.6465\n",
      "Epoch 40/50\n",
      "209/209 [==============================] - 1s 3ms/step - loss: 7.4085\n",
      "Epoch 41/50\n",
      "209/209 [==============================] - 1s 3ms/step - loss: 7.0357\n",
      "Epoch 42/50\n",
      "209/209 [==============================] - 1s 3ms/step - loss: 6.6763\n",
      "Epoch 43/50\n",
      "209/209 [==============================] - 1s 3ms/step - loss: 6.8881\n",
      "Epoch 44/50\n",
      "209/209 [==============================] - 1s 3ms/step - loss: 7.1450\n",
      "Epoch 45/50\n",
      "209/209 [==============================] - 1s 3ms/step - loss: 7.0926\n",
      "Epoch 46/50\n",
      "209/209 [==============================] - 1s 3ms/step - loss: 7.1646\n",
      "Epoch 47/50\n",
      "209/209 [==============================] - 1s 3ms/step - loss: 7.0762\n",
      "Epoch 48/50\n",
      "209/209 [==============================] - 1s 3ms/step - loss: 7.5971\n",
      "Epoch 49/50\n",
      "209/209 [==============================] - 1s 4ms/step - loss: 7.1558\n",
      "Epoch 50/50\n",
      "209/209 [==============================] - 1s 4ms/step - loss: 6.6810\n"
     ]
    }
   ],
   "source": [
    "### Training the model\n",
    "model.compile(optimizer='adam', loss='mean_squared_error')\n",
    "model.fit(xtrain, ytrain, batch_size=1, epochs=50);"
   ]
  },
  {
   "cell_type": "code",
   "execution_count": 18,
   "metadata": {},
   "outputs": [
    {
     "data": {
      "text/html": [
       "<div>\n",
       "<style scoped>\n",
       "    .dataframe tbody tr th:only-of-type {\n",
       "        vertical-align: middle;\n",
       "    }\n",
       "\n",
       "    .dataframe tbody tr th {\n",
       "        vertical-align: top;\n",
       "    }\n",
       "\n",
       "    .dataframe thead th {\n",
       "        text-align: right;\n",
       "    }\n",
       "</style>\n",
       "<table border=\"1\" class=\"dataframe\">\n",
       "  <thead>\n",
       "    <tr style=\"text-align: right;\">\n",
       "      <th></th>\n",
       "      <th>Date</th>\n",
       "      <th>Open</th>\n",
       "      <th>High</th>\n",
       "      <th>Low</th>\n",
       "      <th>Close</th>\n",
       "      <th>Adj Close</th>\n",
       "      <th>Volume</th>\n",
       "    </tr>\n",
       "  </thead>\n",
       "  <tbody>\n",
       "    <tr>\n",
       "      <th>261</th>\n",
       "      <td>2022-07-15</td>\n",
       "      <td>127.867599</td>\n",
       "      <td>127.867599</td>\n",
       "      <td>127.867599</td>\n",
       "      <td>127.867599</td>\n",
       "      <td>127.867599</td>\n",
       "      <td>0</td>\n",
       "    </tr>\n",
       "  </tbody>\n",
       "</table>\n",
       "</div>"
      ],
      "text/plain": [
       "          Date        Open        High         Low       Close   Adj Close  \\\n",
       "261 2022-07-15  127.867599  127.867599  127.867599  127.867599  127.867599   \n",
       "\n",
       "     Volume  \n",
       "261       0  "
      ]
     },
     "execution_count": 18,
     "metadata": {},
     "output_type": "execute_result"
    }
   ],
   "source": [
    "npr.tail(1)"
   ]
  },
  {
   "cell_type": "code",
   "execution_count": 19,
   "metadata": {},
   "outputs": [
    {
     "name": "stdout",
     "output_type": "stream",
     "text": [
      "1/1 [==============================] - 1s 662ms/step\n"
     ]
    },
    {
     "data": {
      "text/plain": [
       "array([[119.05265]], dtype=float32)"
      ]
     },
     "execution_count": 19,
     "metadata": {},
     "output_type": "execute_result"
    }
   ],
   "source": [
    "import numpy as np\n",
    "#features = [Open, High, Low, Adj Close, Volume]\n",
    "features = np.array([[127.867599, 127.867599, 127.867599, 0]])\n",
    "model.predict(features)"
   ]
  }
 ],
 "metadata": {
  "kernelspec": {
   "display_name": "Python 3",
   "language": "python",
   "name": "python3"
  },
  "language_info": {
   "codemirror_mode": {
    "name": "ipython",
    "version": 3
   },
   "file_extension": ".py",
   "mimetype": "text/x-python",
   "name": "python",
   "nbconvert_exporter": "python",
   "pygments_lexer": "ipython3",
   "version": "3.9.7"
  }
 },
 "nbformat": 4,
 "nbformat_minor": 4
}
